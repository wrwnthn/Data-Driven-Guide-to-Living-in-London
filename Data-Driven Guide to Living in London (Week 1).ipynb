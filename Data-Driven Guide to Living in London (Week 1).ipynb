{
 "cells": [
  {
   "cell_type": "markdown",
   "metadata": {
    "collapsed": true
   },
   "source": [
    "# Applied Data Science Capstone"
   ]
  },
  {
   "cell_type": "markdown",
   "metadata": {},
   "source": [
    "## Capstone Project - Data-Driven Guide to Living in London"
   ]
  },
  {
   "cell_type": "markdown",
   "metadata": {},
   "source": [
    "### 1. Introduction"
   ]
  },
  {
   "cell_type": "markdown",
   "metadata": {},
   "source": [
    "London is considered to be one of the world's most important global cities and has been termed the world's most powerful, most desirable, most influential, most visited, most expensive, innovative, sustainable, most investment friendly, and most popular for work city in the world. London has a diverse range of people and cultures, and more than 300 languages are spoken in the region. Its estimated mid-2018 municipal population (corresponding to Greater London) was 8,908,081. [1] London’s population has grown 7.5% in just five years. [2]\n",
    "\n",
    "Moving to a new city can be difficult, so the purpose of this project is to guide those people who are moving to London to find a nice, affordable area to live. \n",
    "We will analyze **__32 boroughs, plus City of London__** by creating a choropleth map with average rent (one-bedroom apartment) in each borough, plotting London Underground stations and finding most common venues in each borough.\n"
   ]
  },
  {
   "cell_type": "markdown",
   "metadata": {},
   "source": [
    "### 2. Data Description"
   ]
  },
  {
   "cell_type": "markdown",
   "metadata": {},
   "source": [
    "To analyze each borough in London, I gather all data below:\n",
    "\n",
    "+ Collecting London borough names from [London Councils](https://www.londoncouncils.gov.uk/node/1938) and using [Google Maps](https://www.google.co.th/maps) to manually get coordinates in each borough then put it in csv file \n",
    "(When I use geocoder to find coordinates, it doesn't give accurate coordinates)\n",
    "\n",
    "+ Downloading data of average rent in London by borough in csv format from [London Datastore](https://data.london.gov.uk/dataset/average-private-rents-borough)\n",
    "(In this case, we will use only average rent of 1-bedroom apartment)\n",
    "\n",
    "+ Using BeautifulSoup to scrape London Underground stations and coordinates from [OpenStreetMap](https://wiki.openstreetmap.org/wiki/List_of_London_Underground_stations)\n",
    "\n",
    "+ Using [Foursquare API](https://developer.foursquare.com/) to obtain surrounding venues in every borough in London\n",
    "\n",
    "+ Using geojson file from [carto.com](https://cooleyb.carto.com/tables/london_boroughs_boroughs_kml/public) to draw polygons for London boroughs\n",
    "(Geojson file will be used for creating choropleth map)"
   ]
  },
  {
   "cell_type": "markdown",
   "metadata": {},
   "source": [
    "### References:\n",
    "\n",
    "+ [1] [Wikipedia](https://en.wikipedia.org/wiki/London)\n",
    "+ [2] [Trust for London](https://www.trustforlondon.org.uk/data/people-moving-and-london/)"
   ]
  }
 ],
 "metadata": {
  "kernelspec": {
   "display_name": "Python 3.6",
   "language": "python",
   "name": "python3"
  },
  "language_info": {
   "codemirror_mode": {
    "name": "ipython",
    "version": 3
   },
   "file_extension": ".py",
   "mimetype": "text/x-python",
   "name": "python",
   "nbconvert_exporter": "python",
   "pygments_lexer": "ipython3",
   "version": "3.6.8"
  }
 },
 "nbformat": 4,
 "nbformat_minor": 1
}
